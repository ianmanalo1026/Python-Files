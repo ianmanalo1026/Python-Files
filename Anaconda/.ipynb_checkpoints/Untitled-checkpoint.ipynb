{
 "cells": [
  {
   "cell_type": "code",
   "execution_count": 50,
   "metadata": {},
   "outputs": [
    {
     "ename": "SyntaxError",
     "evalue": "invalid syntax (<ipython-input-50-14da3e0244db>, line 7)",
     "output_type": "error",
     "traceback": [
      "\u001b[1;36m  File \u001b[1;32m\"<ipython-input-50-14da3e0244db>\"\u001b[1;36m, line \u001b[1;32m7\u001b[0m\n\u001b[1;33m    elif x%5 == 0:\u001b[0m\n\u001b[1;37m    ^\u001b[0m\n\u001b[1;31mSyntaxError\u001b[0m\u001b[1;31m:\u001b[0m invalid syntax\n"
     ]
    }
   ],
   "source": [
    "class FizzBuzz:\n",
    "    \n",
    "    def run(self):\n",
    "        for x in range(100):\n",
    "            if x%3 == 0 and x%5 == 0:\n",
    "                print(f\"{x} fizzbuzz\")\n",
    "            elif x%5 == 0:\n",
    "                print(f\"{x} fizz\")\n",
    "            elif x%3 == 0:\n",
    "                print(f\"{x} buzz\")\n",
    "            else:\n",
    "                print(x)\n",
    "                \n",
    "run = FizzBuzz()\n",
    "run.run()"
   ]
  },
  {
   "cell_type": "code",
   "execution_count": null,
   "metadata": {},
   "outputs": [],
   "source": []
  }
 ],
 "metadata": {
  "kernelspec": {
   "display_name": "Python 3",
   "language": "python",
   "name": "python3"
  },
  "language_info": {
   "codemirror_mode": {
    "name": "ipython",
    "version": 3
   },
   "file_extension": ".py",
   "mimetype": "text/x-python",
   "name": "python",
   "nbconvert_exporter": "python",
   "pygments_lexer": "ipython3",
   "version": "3.8.3"
  }
 },
 "nbformat": 4,
 "nbformat_minor": 4
}
