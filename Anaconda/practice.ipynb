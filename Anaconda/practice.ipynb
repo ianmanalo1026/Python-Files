{
 "cells": [
  {
   "cell_type": "code",
   "execution_count": 54,
   "metadata": {},
   "outputs": [
    {
     "name": "stdout",
     "output_type": "stream",
     "text": [
      "0 fizzbuzz\n",
      "1\n",
      "2\n",
      "3 buzz\n",
      "4\n",
      "5 fizz\n",
      "6 buzz\n",
      "7\n",
      "8\n",
      "9 buzz\n",
      "10 fizz\n",
      "11\n",
      "12 buzz\n",
      "13\n",
      "14\n",
      "15 fizzbuzz\n",
      "16\n",
      "17\n",
      "18 buzz\n",
      "19\n",
      "20 fizz\n",
      "21 buzz\n",
      "22\n",
      "23\n",
      "24 buzz\n",
      "25 fizz\n",
      "26\n",
      "27 buzz\n",
      "28\n",
      "29\n",
      "30 fizzbuzz\n",
      "31\n",
      "32\n",
      "33 buzz\n",
      "34\n",
      "35 fizz\n",
      "36 buzz\n",
      "37\n",
      "38\n",
      "39 buzz\n",
      "40 fizz\n",
      "41\n",
      "42 buzz\n",
      "43\n",
      "44\n",
      "45 fizzbuzz\n",
      "46\n",
      "47\n",
      "48 buzz\n",
      "49\n",
      "50 fizz\n",
      "51 buzz\n",
      "52\n",
      "53\n",
      "54 buzz\n",
      "55 fizz\n",
      "56\n",
      "57 buzz\n",
      "58\n",
      "59\n",
      "60 fizzbuzz\n",
      "61\n",
      "62\n",
      "63 buzz\n",
      "64\n",
      "65 fizz\n",
      "66 buzz\n",
      "67\n",
      "68\n",
      "69 buzz\n",
      "70 fizz\n",
      "71\n",
      "72 buzz\n",
      "73\n",
      "74\n",
      "75 fizzbuzz\n",
      "76\n",
      "77\n",
      "78 buzz\n",
      "79\n",
      "80 fizz\n",
      "81 buzz\n",
      "82\n",
      "83\n",
      "84 buzz\n",
      "85 fizz\n",
      "86\n",
      "87 buzz\n",
      "88\n",
      "89\n",
      "90 fizzbuzz\n",
      "91\n",
      "92\n",
      "93 buzz\n",
      "94\n",
      "95 fizz\n",
      "96 buzz\n",
      "97\n",
      "98\n",
      "99 buzz\n"
     ]
    }
   ],
   "source": [
    "class FizzBuzz:\n",
    "    \n",
    "    def run(self):\n",
    "        for x in range(100):\n",
    "            if x%3 == 0 and x%5 == 0:\n",
    "                print(f\"{x} fizzbuzz\")\n",
    "            elif x%5 == 0:\n",
    "                print(f\"{x} fizz\")\n",
    "            elif x%3 == 0:\n",
    "                print(f\"{x} buzz\")\n",
    "            else:\n",
    "                print(x)\n",
    "                \n",
    "run = FizzBuzz()\n",
    "run.run()"
   ]
  },
  {
   "cell_type": "code",
   "execution_count": 51,
   "metadata": {},
   "outputs": [],
   "source": [
    "def anagram2(s1, s2):\n",
    "    \"\"\"To check if the words are anagram\"\"\"\n",
    "    \n",
    "    \"\"\"Remove spaces\"\"\"\n",
    "    s1 = s1.replace(\" \", \"\").lower()\n",
    "    s2 = s2.replace(\" \", \"\").lower()\n",
    "    \n",
    "    \"\"\"create a dictionary to check the count of the digits\"\"\"\n",
    "    count = {}\n",
    "    \n",
    "    \"\"\"check if letter is in count, if yes, add 1 to value, if no add key and value 1\"\"\"\n",
    "    for letter in s1:\n",
    "        if letter in count:\n",
    "            count[letter] += 1\n",
    "        else:\n",
    "            count[letter] = 1\n",
    "    \n",
    "    \"\"\"check if letter is in count, if yes, subtract 1 to value, if no add key and value 1\"\"\"\n",
    "    for letter in s2:\n",
    "        if letter in count:\n",
    "            count[letter] -= 1\n",
    "        else:\n",
    "            count[letter] = 1\n",
    "    \"\"\"check key and value in count. if it's not 0, return false, else true\"\"\"       \n",
    "    for k in count:\n",
    "        print(count[k])\n",
    "        if count[k] == 0:\n",
    "            return True\n",
    "        else:\n",
    "            return False"
   ]
  },
  {
   "cell_type": "code",
   "execution_count": 53,
   "metadata": {},
   "outputs": [
    {
     "name": "stdout",
     "output_type": "stream",
     "text": [
      "0\n"
     ]
    },
    {
     "data": {
      "text/plain": [
       "True"
      ]
     },
     "execution_count": 53,
     "metadata": {},
     "output_type": "execute_result"
    }
   ],
   "source": [
    "anagram2(\"hello\", \"olleh\")"
   ]
  },
  {
   "cell_type": "code",
   "execution_count": 54,
   "metadata": {},
   "outputs": [],
   "source": [
    "def pair_sum(lst,target):\n",
    "    \n",
    "    if lst == 0 or target == 0:\n",
    "        return False\n",
    "    else:\n",
    "        return True\n",
    "    \n",
    "    for v in list:\n",
    "        \n",
    "        "
   ]
  },
  {
   "cell_type": "code",
   "execution_count": null,
   "metadata": {},
   "outputs": [],
   "source": [
    "def missing(arr1, arr2):\n",
    "    \n",
    "    count = []\n",
    "    \n",
    "    for n in arr1:\n",
    "        if n not in count:\n",
    "            count.append(n)\n",
    "        else:\n",
    "            ret\n",
    "            "
   ]
  }
 ],
 "metadata": {
  "kernelspec": {
   "display_name": "Python 3",
   "language": "python",
   "name": "python3"
  },
  "language_info": {
   "codemirror_mode": {
    "name": "ipython",
    "version": 3
   },
   "file_extension": ".py",
   "mimetype": "text/x-python",
   "name": "python",
   "nbconvert_exporter": "python",
   "pygments_lexer": "ipython3",
   "version": "3.8.3"
  }
 },
 "nbformat": 4,
 "nbformat_minor": 4
}
