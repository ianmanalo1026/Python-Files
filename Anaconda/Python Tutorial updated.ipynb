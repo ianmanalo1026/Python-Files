{
 "cells": [
  {
   "cell_type": "code",
   "execution_count": null,
   "metadata": {},
   "outputs": [],
   "source": [
    "#Corey Schafer\n",
    "#Python OOP Tutorial 1: Classes and Instances\n",
    "#Python OOP Tutorial 2: Class Variables\n",
    "#Python OOP Tutorial 3: classmethods and staticmethods - next\n",
    "\n",
    "class Employee:\n",
    "    #class is a blueprint of the system\n",
    "    \n",
    "    num_of_emps = 0 #class variables\n",
    "    raise_amount = 1.04 #class variables\n",
    "    \n",
    "    def __init__(self,first,last,pay): #__init__ method is to initialize argument and instances. Instance is the first argument and the rest is argument.\n",
    "        self.first = first #method variables\n",
    "        self.last = last #method variables\n",
    "        self.pay = pay #method variables\n",
    "        self.email = first + \".\" + last + \"@company.com\" #method variables\n",
    "        \n",
    "        Employee.num_of_emps +=1 #will add 1 everytime we create employee. use Employee instead if no need to overwritten the data\n",
    "        \n",
    "    def fullname(self): # method\n",
    "        return '{} {} {}'.format(self.first, self.last, self.pay) # {} {} is use as an indicator or format of the instances\n",
    "        \n",
    "    def apply_raise(self):\n",
    "        self.pay = int(self.pay * self.raise_amount) # used int as the result is intergers. use self.raise_amount to overwritten the data\n",
    "    \n",
    "    @classmethod\n",
    "    def set_raise_amt(cls,amount):\n",
    "        cls.raise_amt = amount\n",
    "emp_1 = Employee(\"Ian\",\"Manalo\", 6000)\n",
    "emp_2 = Employee(\"cardo\",\"dalisay\", 7000)\n",
    "\n",
    "\n",
    "print(emp_1.email)# no need to put () because the method does not use return function\n",
    "print(emp_1.fullname()) #() should be place after fullname to return the value.\n",
    "#print(Employee.fullname(emp_1)) # print using class\n",
    "#print(Employee.__dict__)\n",
    "# print methods and variables within the class\n",
    "print(emp_1.pay)\n",
    "emp_1.apply_raise() # applying raise to the employee\n",
    "print(emp_1.pay) #showing new pay of employee\n",
    "print(Employee.num_of_emps) #print out number of employee. should be put after employee created\n"
   ]
  },
  {
   "cell_type": "code",
   "execution_count": 6,
   "metadata": {},
   "outputs": [
    {
     "name": "stdout",
     "output_type": "stream",
     "text": [
      "Log: Hi!\n",
      "<h1>Test Headline</h1>\n"
     ]
    }
   ],
   "source": [
    "#first class functions example\n",
    "# first class function pass function to an argument. treat function as varialbe. assign function to variables\n",
    "\n",
    "def logger(msg): \n",
    "    \n",
    "    def log_message(): #method within another method\n",
    "        print ('Log:',msg)\n",
    "        \n",
    "    return log_message\n",
    "\n",
    "log_hi = logger ('Hi!')\n",
    "log_hi()\n",
    "\n",
    "def html_tag(tag):\n",
    "    \n",
    "    def wrap_text(msg):\n",
    "        print('<{0}>{1}</{0}>'.format(tag,msg))#'<{0}>{1}</{0}>'.format. 0 = tag and 1 = msg. {} use to call argument\n",
    "        \n",
    "    return wrap_text #call function of method wrap_text\n",
    "\n",
    "print_h1 = html_tag('h1')\n",
    "print_h1('Test Headline')"
   ]
  },
  {
   "cell_type": "code",
   "execution_count": 10,
   "metadata": {},
   "outputs": [
    {
     "name": "stdout",
     "output_type": "stream",
     "text": [
      "Hi\n",
      "Hi\n",
      "Hello\n",
      "6\n",
      "9\n",
      "5\n",
      "10\n"
     ]
    }
   ],
   "source": [
    "#closure means an inner function that remembers and has accessed to variables and local scope even the outer function has finish executing\n",
    "\n",
    "def outer_func(): \n",
    "    message = 'Hi' #method outer_func contains message 'Hi'\n",
    "    \n",
    "    def inner_func():\n",
    "        print(message) #method inner_func calls the value of message. this is also called as free variable\n",
    "        \n",
    "    return inner_func() #return and execute inner func\n",
    "\n",
    "outer_func() # def outer_func assign hi to message, and inner_fuc print the value of message. outer_func() will execute the method\n",
    "\n",
    "\n",
    "#example 2\n",
    "def outer_func1(msg): #method that create function where variable message1 = variable msg\n",
    "    message1 = msg\n",
    "    \n",
    "    def inner_func1(): #method that print the variable message\n",
    "        print(message1)\n",
    "        \n",
    "    return inner_func1\n",
    "\n",
    "hi_func = outer_func1('Hi') #outer_func function has been assigned to hi_func with value of HI\n",
    "hello_func = outer_func1('Hello')\n",
    "\n",
    "hi_func() #execute the function hi_func\n",
    "hello_func()\n",
    "\n",
    "# example 3\n",
    "import logging\n",
    "logging.basicConfig(filename='example.org', level=logging.INFO)\n",
    "\n",
    "def logger(func2):\n",
    "    def log_func(*args): #takes any kind of arguments\n",
    "        logging.info('Running \"{}\" with arguments {}'.format(func2.__name__, args))\n",
    "        print(func2(*args))\n",
    "        \n",
    "    return log_func\n",
    "\n",
    "def add(x,y):\n",
    "    return x+y\n",
    "\n",
    "def sub(x,y):\n",
    "    return x-y\n",
    "\n",
    "add_logger = logger(add) #pass in the add function to outer fuction (logger) and assigned the function to add_logger\n",
    "sub_logger = logger(sub) #pass in the sub function to outer fuction (logger) and assigned the function to sub_logger\n",
    "\n",
    "add_logger(3, 3)\n",
    "add_logger(4, 5)\n",
    "\n",
    "sub_logger(10, 5)\n",
    "sub_logger(20, 10)"
   ]
  },
  {
   "cell_type": "code",
   "execution_count": 26,
   "metadata": {},
   "outputs": [
    {
     "name": "stdout",
     "output_type": "stream",
     "text": [
      "display_info ran with arguments (Tom,25)\n",
      "display_info ran in: 1.0001180171966553 sec\n"
     ]
    }
   ],
   "source": [
    "#decorators\n",
    "#method decorator_function has a function named original funtion. under decorator_function is the wrapper fucntion that execute the orginal_function and print out.\n",
    "#display method print out \"display function\" and @decorator_function \n",
    "\n",
    "def decorator_function(original_function): #original_function is a function not variables\n",
    "    \n",
    "    def wrapper_function(*args, **kwargs): # allows to accept key words \n",
    "        print('wrapper executed this before {}'.format(original_function.__name__))\n",
    "        return original_function(*args, **kwargs) #\n",
    "    return wrapper_function\n",
    "\n",
    "\n",
    "@decorator_function #is equal to display = decorator_function(display) ---->  full function of decorator_function\n",
    "def display():\n",
    "    print('display function ran')\n",
    "    \n",
    "@decorator_function\n",
    "def display_info(name,age):\n",
    "    print('display_info ran with arguments ({},{})'.format(name,age))\n",
    "    \n",
    "#display_info('John',25)\n",
    "    \n",
    "#display()\n",
    "\n",
    "#example 2\n",
    "\n",
    "from functools import wraps\n",
    "\n",
    "def my_logger(orig_func):\n",
    "    import logging\n",
    "    logging.basicConfig(filename = '{}.log'.format(orig_func.__name__), level=logging.INFO)\n",
    "\n",
    "    @wraps(orig_func)\n",
    "    def wrapper(*args,**kwargs):\n",
    "        logging.info('Ran with args: {}, and kwargs: {}'.format(args, kwargs))\n",
    "        return orig_func(*args,**kwargs)\n",
    "    \n",
    "    return wrapper\n",
    "\n",
    "def my_timer(orig_func):\n",
    "    import time\n",
    "    \n",
    "    @wraps(orig_func)\n",
    "    def wrapper(*args, **kwargs):\n",
    "        t1 = time.time()\n",
    "        result = orig_func(*args, **kwargs)\n",
    "        t2 = time.time() - t1\n",
    "        print('{} ran in: {} sec'.format(orig_func.__name__, t2))\n",
    "        return result\n",
    "    \n",
    "    return wrapper\n",
    "import time\n",
    "\n",
    "@my_logger\n",
    "@my_timer\n",
    "def display_info(name, age):\n",
    "    time.sleep(1)\n",
    "    print('display_info ran with arguments ({},{})'.format(name,age))\n",
    "    \n",
    "display_info('Tom', 25)\n"
   ]
  },
  {
   "cell_type": "code",
   "execution_count": 30,
   "metadata": {},
   "outputs": [
    {
     "name": "stdout",
     "output_type": "stream",
     "text": [
      "ian manalo\n",
      "too young\n"
     ]
    }
   ],
   "source": [
    "class printname:\n",
    "    \n",
    "    def __init__(self, firstname, lastname, age):\n",
    "        self.firstname = firstname\n",
    "        self.lastname = lastname\n",
    "        self.age = age\n",
    "        \n",
    "    def fullname(self):\n",
    "        return'{} {}'.format(self.firstname, self.lastname)\n",
    "    \n",
    "    def agelimit(self):\n",
    "        if self.age > 19:\n",
    "            return 'too young'\n",
    "        else:\n",
    "            return 'pass'\n",
    "    \n",
    "emp = printname('ian', 'manalo',20)\n",
    "print(emp.fullname())\n",
    "print(emp.agelimit())"
   ]
  },
  {
   "cell_type": "code",
   "execution_count": 56,
   "metadata": {},
   "outputs": [
    {
     "name": "stdout",
     "output_type": "stream",
     "text": [
      "ian bcda 200\n",
      "220\n",
      "ian bcda 220\n"
     ]
    }
   ],
   "source": [
    "class sili:\n",
    "    \n",
    "    def __init__(self,name,address,distance):\n",
    "        self.name = name\n",
    "        self.address = address\n",
    "        self.distance = distance\n",
    "        \n",
    "    def fullname(self):\n",
    "        return '{} {} {}'.format(self.name, self.address, self.distance)\n",
    "    \n",
    "    def distance1(self):\n",
    "        self.distance = int(self.distance + 20)\n",
    "    \n",
    "emp1 = sili('ian','bcda', 200)\n",
    "print(emp1.fullname())\n",
    "emp1.distance1()\n",
    "print(emp1.distance)\n",
    "print(emp1.fullname())"
   ]
  },
  {
   "cell_type": "code",
   "execution_count": 4,
   "metadata": {},
   "outputs": [
    {
     "name": "stdout",
     "output_type": "stream",
     "text": [
      "False\n"
     ]
    }
   ],
   "source": [
    "month_days = [0, 31, 28, 31, 30, 31, 30, 31, 31, 30, 31, 30, 31]\n",
    "\n",
    "def is_leap(year):\n",
    "    \n",
    "    return year % 4 == 0 and (year % 100 != 0 or year % 400 == 0)\n",
    "\n",
    "def days_in_month(year, month):\n",
    "    if not 1 <= month <= 12:\n",
    "        return 'Invalid Month'\n",
    "    if month == 2 and is_leap(year):\n",
    "        return 29\n",
    "    \n",
    "    return month_days[month]\n",
    "\n",
    "print(is_leap(2017))"
   ]
  },
  {
   "cell_type": "code",
   "execution_count": 2,
   "metadata": {},
   "outputs": [
    {
     "name": "stdout",
     "output_type": "stream",
     "text": [
      "name John\n",
      "age 25\n",
      "courses ['Math', 'ComsSci']\n"
     ]
    }
   ],
   "source": [
    "#Dictionaries\n",
    "\n",
    "student = {'name': 'John', 'age': 25, 'courses': ['Math', 'ComsSci']}\n",
    "           \n",
    "for key, value in student.items():\n",
    "           print(key, value)"
   ]
  },
  {
   "cell_type": "code",
   "execution_count": 2,
   "metadata": {},
   "outputs": [
    {
     "name": "stdout",
     "output_type": "stream",
     "text": [
      "['C:\\\\Users\\\\Ian Manalo\\\\Desktop\\\\Python', 'D:\\\\Python\\\\python37.zip', 'D:\\\\Python\\\\DLLs', 'D:\\\\Python\\\\lib', 'D:\\\\Python', '', 'D:\\\\Python\\\\lib\\\\site-packages', 'D:\\\\Python\\\\lib\\\\site-packages\\\\win32', 'D:\\\\Python\\\\lib\\\\site-packages\\\\win32\\\\lib', 'D:\\\\Python\\\\lib\\\\site-packages\\\\Pythonwin', 'D:\\\\Python\\\\lib\\\\site-packages\\\\IPython\\\\extensions', 'C:\\\\Users\\\\Ian Manalo\\\\.ipython']\n",
      "C:\\Users\\Ian Manalo\\Desktop\\Python\n"
     ]
    }
   ],
   "source": [
    "import sys\n",
    "print(sys.path)\n",
    "\n",
    "import os\n",
    "\n",
    "print(os.getcwd())"
   ]
  },
  {
   "cell_type": "code",
   "execution_count": 15,
   "metadata": {},
   "outputs": [
    {
     "data": {
      "text/plain": [
       "'Hello Bob!'"
      ]
     },
     "execution_count": 15,
     "metadata": {},
     "output_type": "execute_result"
    }
   ],
   "source": [
    "    def hello_name(name):\n",
    "      return '{} {}'.format('Hello', name)\n",
    "\n",
    "\n",
    "\n",
    "    hello_name(\"Bob!\")"
   ]
  },
  {
   "cell_type": "code",
   "execution_count": 33,
   "metadata": {},
   "outputs": [
    {
     "data": {
      "text/plain": [
       "'<<Yay>>'"
      ]
     },
     "execution_count": 33,
     "metadata": {},
     "output_type": "execute_result"
    }
   ],
   "source": [
    "def make_out_word(out, word):\n",
    "    return '{}{}{}'.format(out[:2], word, out[2:])\n",
    "\n",
    "make_out_word('<<>>', 'Yay')\n"
   ]
  },
  {
   "cell_type": "code",
   "execution_count": 24,
   "metadata": {},
   "outputs": [
    {
     "name": "stdout",
     "output_type": "stream",
     "text": [
      "0 History\n",
      "\n",
      "1 Math\n",
      "\n",
      "2 Physics\n",
      "\n",
      "3 ComSci\n",
      "\n",
      "1 History\n",
      "2 Math\n",
      "3 Physics\n",
      "4 ComSci\n",
      "['Art', 'ComSci']\n",
      "['Physics', 'Math', 'History', ['Education', 'Art']]\n",
      "['Art', 'ComSci', 'Physics', 'Math', 'History', ['Education', 'Art']]\n",
      "['Education', 'Art']\n",
      "[5, 4, 3, 2, 1]\n",
      "['ComSci', 'History', 'Math', 'Physics']\n",
      "1\n",
      "True\n"
     ]
    }
   ],
   "source": [
    "courses = ['History','Math','Physics','ComSci']\n",
    "courses_2 = ['Art', 'Education']\n",
    "\n",
    "nums = [1,2,3,5,4]\n",
    "\n",
    "nums.sort(reverse=True)\n",
    "\n",
    "for index, course in enumerate(courses):\n",
    "    print(index, course)\n",
    "    print(\"\")\n",
    "\n",
    "for index, course in enumerate(courses, start=1):\n",
    "    print(index, course)\n",
    "\n",
    "courses.reverse()\n",
    "courses_2.reverse()\n",
    "\n",
    "sorted_courses = sorted(courses)\n",
    "courses.append(courses_2)\n",
    "courses.insert(0,'Art')\n",
    "\n",
    "print(courses[:2])\n",
    "print(courses[2:])\n",
    "print(courses)\n",
    "print(courses_2)\n",
    "print(nums)\n",
    "print(sorted_courses)\n",
    "print(courses.index('ComSci'))\n",
    "print('Art' in courses)"
   ]
  },
  {
   "cell_type": "code",
   "execution_count": 31,
   "metadata": {},
   "outputs": [
    {
     "name": "stdout",
     "output_type": "stream",
     "text": [
      "{'Math', 'History'}\n",
      "{'ComSci', 'Physics'}\n",
      "{'Math', 'History', 'Design', 'ComSci', 'Art', 'Physics'}\n"
     ]
    }
   ],
   "source": [
    "cs_courses = {'History', 'Math', 'Physics', 'ComSci'}\n",
    "art_courses = {'History', 'Math', 'Art', 'Design'}\n",
    "\n",
    "print(cs_courses.intersection(art_courses))\n",
    "print(cs_courses.difference(art_courses))\n",
    "print(cs_courses.union(art_courses))"
   ]
  },
  {
   "cell_type": "code",
   "execution_count": 2,
   "metadata": {},
   "outputs": [],
   "source": [
    "def main():\n",
    "    pass\n",
    "\n",
    "if __name__ == '__main__':\n",
    "    main()"
   ]
  },
  {
   "cell_type": "code",
   "execution_count": 18,
   "metadata": {},
   "outputs": [
    {
     "name": "stdout",
     "output_type": "stream",
     "text": [
      "------>>fizzbuzz\n",
      "------>>fizz\n",
      "------>>fizz\n",
      "------>>buzz\n",
      "------>>fizz\n",
      "------>>fizz\n",
      "------>>buzz\n",
      "------>>fizz\n",
      "------>>fizz\n",
      "------>>buzz\n",
      "------>>fizz\n",
      "------>>fizz\n",
      "------>>buzz\n",
      "------>>fizz\n",
      "------>>fizz\n",
      "------>>fizzbuzz\n",
      "------>>fizz\n",
      "------>>fizz\n",
      "------>>buzz\n",
      "------>>fizz\n",
      "------>>fizz\n",
      "------>>buzz\n",
      "------>>fizz\n",
      "------>>fizz\n",
      "------>>buzz\n",
      "------>>fizz\n",
      "------>>fizz\n",
      "------>>buzz\n",
      "------>>fizz\n",
      "------>>fizz\n",
      "------>>fizzbuzz\n",
      "------>>fizz\n",
      "------>>fizz\n",
      "------>>buzz\n",
      "------>>fizz\n",
      "------>>fizz\n",
      "------>>buzz\n",
      "------>>fizz\n",
      "------>>fizz\n",
      "------>>buzz\n",
      "------>>fizz\n",
      "------>>fizz\n",
      "------>>buzz\n",
      "------>>fizz\n",
      "------>>fizz\n",
      "------>>fizzbuzz\n",
      "------>>fizz\n",
      "------>>fizz\n",
      "------>>buzz\n",
      "------>>fizz\n",
      "------>>fizz\n",
      "------>>buzz\n",
      "------>>fizz\n",
      "------>>fizz\n",
      "------>>buzz\n",
      "------>>fizz\n",
      "------>>fizz\n",
      "------>>buzz\n",
      "------>>fizz\n",
      "------>>fizz\n",
      "------>>fizzbuzz\n",
      "------>>fizz\n",
      "------>>fizz\n",
      "------>>buzz\n",
      "------>>fizz\n",
      "------>>fizz\n",
      "------>>buzz\n",
      "------>>fizz\n",
      "------>>fizz\n",
      "------>>buzz\n",
      "------>>fizz\n",
      "------>>fizz\n",
      "------>>buzz\n",
      "------>>fizz\n",
      "------>>fizz\n",
      "------>>fizzbuzz\n",
      "------>>fizz\n",
      "------>>fizz\n",
      "------>>buzz\n",
      "------>>fizz\n",
      "------>>fizz\n",
      "------>>buzz\n",
      "------>>fizz\n",
      "------>>fizz\n",
      "------>>buzz\n",
      "------>>fizz\n",
      "------>>fizz\n",
      "------>>buzz\n",
      "------>>fizz\n",
      "------>>fizz\n",
      "------>>fizzbuzz\n",
      "------>>fizz\n",
      "------>>fizz\n",
      "------>>buzz\n",
      "------>>fizz\n",
      "------>>fizz\n",
      "------>>buzz\n",
      "------>>fizz\n",
      "------>>fizz\n",
      "------>>buzz\n",
      "------>>fizz\n"
     ]
    }
   ],
   "source": [
    "for n in range(101):\n",
    "    if n%3 == 0 and n%5 == 0:\n",
    "        print('------>>fizzbuzz')\n",
    "    elif n%3:\n",
    "        print('------>>fizz')\n",
    "    elif n%5:\n",
    "        print('------>>buzz')\n",
    "    else:\n",
    "        print(n)"
   ]
  }
 ],
 "metadata": {
  "kernelspec": {
   "display_name": "Python 3",
   "language": "python",
   "name": "python3"
  },
  "language_info": {
   "codemirror_mode": {
    "name": "ipython",
    "version": 3
   },
   "file_extension": ".py",
   "mimetype": "text/x-python",
   "name": "python",
   "nbconvert_exporter": "python",
   "pygments_lexer": "ipython3",
   "version": "3.8.3"
  }
 },
 "nbformat": 4,
 "nbformat_minor": 2
}
